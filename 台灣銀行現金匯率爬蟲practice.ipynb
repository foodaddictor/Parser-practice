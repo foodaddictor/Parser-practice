{
 "cells": [
  {
   "cell_type": "code",
   "execution_count": 2,
   "metadata": {
    "collapsed": true
   },
   "outputs": [],
   "source": [
    "import requests "
   ]
  },
  {
   "cell_type": "code",
   "execution_count": 3,
   "metadata": {
    "collapsed": true
   },
   "outputs": [],
   "source": [
    "from bs4 import BeautifulSoup"
   ]
  },
  {
   "cell_type": "code",
   "execution_count": 4,
   "metadata": {
    "collapsed": true
   },
   "outputs": [],
   "source": [
    "re = requests.get(\"http://rate.bot.com.tw/xrt?Lang=zh-TW\")"
   ]
  },
  {
   "cell_type": "code",
   "execution_count": 5,
   "metadata": {
    "collapsed": true
   },
   "outputs": [],
   "source": [
    "soup = BeautifulSoup(re.text, \"html.parser\")"
   ]
  },
  {
   "cell_type": "code",
   "execution_count": 6,
   "metadata": {
    "collapsed": true
   },
   "outputs": [],
   "source": [
    "body = soup.find(\"tbody\")\n",
    "tr = body.find_all(\"tr\")"
   ]
  },
  {
   "cell_type": "code",
   "execution_count": 7,
   "metadata": {},
   "outputs": [
    {
     "name": "stdout",
     "output_type": "stream",
     "text": [
      "臺灣銀行牌告匯率\n"
     ]
    }
   ],
   "source": [
    "print(soup.find(\"title\").text)"
   ]
  },
  {
   "cell_type": "code",
   "execution_count": 8,
   "metadata": {},
   "outputs": [
    {
     "name": "stdout",
     "output_type": "stream",
     "text": [
      "['美金 (USD)', '港幣 (HKD)', '英鎊 (GBP)', '澳幣 (AUD)', '加拿大幣 (CAD)', '新加坡幣 (SGD)', '瑞士法郎 (CHF)', '日圓 (JPY)', '南非幣 (ZAR)', '瑞典幣 (SEK)', '紐元 (NZD)', '泰幣 (THB)', '菲國比索 (PHP)', '印尼幣 (IDR)', '歐元 (EUR)', '韓元 (KRW)', '越南盾 (VND)', '馬來幣 (MYR)', '人民幣 (CNY)']\n"
     ]
    }
   ],
   "source": [
    "#currency_nation 國家幣別\n",
    "currency_nation=[]\n",
    "for i in tr:\n",
    "    td = i.find_all(\"td\")\n",
    "    div = td[0].find_all(\"div\")\n",
    "    currency_nation.append(div[2].get_text(strip=True))\n",
    "print(currency_nation)\n",
    "   "
   ]
  },
  {
   "cell_type": "code",
   "execution_count": 9,
   "metadata": {},
   "outputs": [
    {
     "name": "stdout",
     "output_type": "stream",
     "text": [
      "['29.18', '3.629', '39.64', '23.21', '23.35', '21.83', '30.01', '0.2582', '-', '3.29', '21.06', '0.8216', '0.5092', '0.00188', '35.51', '0.02597', '0.00093', '6.413', '4.492']\n",
      "['29.722', '3.819', '41.57', '23.87', '24.09', '22.61', '31.07', '0.2692', '-', '3.8', '21.69', '0.9646', '0.6422', '0.00258', '36.66', '0.02987', '0.00143', '8.003', '4.654']\n"
     ]
    }
   ],
   "source": [
    "#台灣銀行牌告現金匯率\n",
    "#cash_buy 本行買入\n",
    "#cash_sell 本行賣出\n",
    "cash_buy=[]\n",
    "cash_sell=[]\n",
    "for i in tr:\n",
    "    td = i.find_all(\"td\")\n",
    "    cash_buy.append(td[1].get_text(strip=True))\n",
    "    cash_sell.append(td[2].get_text(strip=True))\n",
    "print(cash_buy)\n",
    "print(cash_sell)"
   ]
  },
  {
   "cell_type": "code",
   "execution_count": 10,
   "metadata": {
    "collapsed": true
   },
   "outputs": [],
   "source": [
    "import numpy as np\n",
    "import pandas as pd"
   ]
  },
  {
   "cell_type": "code",
   "execution_count": 78,
   "metadata": {},
   "outputs": [
    {
     "data": {
      "text/html": [
       "<div>\n",
       "<style>\n",
       "    .dataframe thead tr:only-child th {\n",
       "        text-align: right;\n",
       "    }\n",
       "\n",
       "    .dataframe thead th {\n",
       "        text-align: left;\n",
       "    }\n",
       "\n",
       "    .dataframe tbody tr th {\n",
       "        vertical-align: top;\n",
       "    }\n",
       "</style>\n",
       "<table border=\"1\" class=\"dataframe\">\n",
       "  <thead>\n",
       "    <tr style=\"text-align: right;\">\n",
       "      <th></th>\n",
       "      <th>本行買入</th>\n",
       "      <th>本行賣出</th>\n",
       "    </tr>\n",
       "  </thead>\n",
       "  <tbody>\n",
       "    <tr>\n",
       "      <th>美金 (USD)</th>\n",
       "      <td>29.615</td>\n",
       "      <td>30.157</td>\n",
       "    </tr>\n",
       "    <tr>\n",
       "      <th>港幣 (HKD)</th>\n",
       "      <td>3.682</td>\n",
       "      <td>3.872</td>\n",
       "    </tr>\n",
       "    <tr>\n",
       "      <th>英鎊 (GBP)</th>\n",
       "      <td>38.98</td>\n",
       "      <td>40.91</td>\n",
       "    </tr>\n",
       "    <tr>\n",
       "      <th>澳幣 (AUD)</th>\n",
       "      <td>22.66</td>\n",
       "      <td>23.32</td>\n",
       "    </tr>\n",
       "    <tr>\n",
       "      <th>加拿大幣 (CAD)</th>\n",
       "      <td>22.99</td>\n",
       "      <td>23.73</td>\n",
       "    </tr>\n",
       "    <tr>\n",
       "      <th>新加坡幣 (SGD)</th>\n",
       "      <td>21.78</td>\n",
       "      <td>22.56</td>\n",
       "    </tr>\n",
       "    <tr>\n",
       "      <th>瑞士法郎 (CHF)</th>\n",
       "      <td>29.7</td>\n",
       "      <td>30.76</td>\n",
       "    </tr>\n",
       "    <tr>\n",
       "      <th>日圓 (JPY)</th>\n",
       "      <td>0.2559</td>\n",
       "      <td>0.2669</td>\n",
       "    </tr>\n",
       "    <tr>\n",
       "      <th>南非幣 (ZAR)</th>\n",
       "      <td>-</td>\n",
       "      <td>-</td>\n",
       "    </tr>\n",
       "    <tr>\n",
       "      <th>瑞典幣 (SEK)</th>\n",
       "      <td>3.18</td>\n",
       "      <td>3.69</td>\n",
       "    </tr>\n",
       "    <tr>\n",
       "      <th>紐元 (NZD)</th>\n",
       "      <td>20.66</td>\n",
       "      <td>21.29</td>\n",
       "    </tr>\n",
       "    <tr>\n",
       "      <th>泰幣 (THB)</th>\n",
       "      <td>0.8117</td>\n",
       "      <td>0.9547</td>\n",
       "    </tr>\n",
       "    <tr>\n",
       "      <th>菲國比索 (PHP)</th>\n",
       "      <td>0.523</td>\n",
       "      <td>0.656</td>\n",
       "    </tr>\n",
       "    <tr>\n",
       "      <th>印尼幣 (IDR)</th>\n",
       "      <td>0.00188</td>\n",
       "      <td>0.00258</td>\n",
       "    </tr>\n",
       "    <tr>\n",
       "      <th>歐元 (EUR)</th>\n",
       "      <td>34.86</td>\n",
       "      <td>36.01</td>\n",
       "    </tr>\n",
       "    <tr>\n",
       "      <th>韓元 (KRW)</th>\n",
       "      <td>0.02601</td>\n",
       "      <td>0.02991</td>\n",
       "    </tr>\n",
       "    <tr>\n",
       "      <th>越南盾 (VND)</th>\n",
       "      <td>0.00095</td>\n",
       "      <td>0.00145</td>\n",
       "    </tr>\n",
       "    <tr>\n",
       "      <th>馬來幣 (MYR)</th>\n",
       "      <td>6.287</td>\n",
       "      <td>7.877</td>\n",
       "    </tr>\n",
       "    <tr>\n",
       "      <th>人民幣 (CNY)</th>\n",
       "      <td>4.468</td>\n",
       "      <td>4.63</td>\n",
       "    </tr>\n",
       "  </tbody>\n",
       "</table>\n",
       "</div>"
      ],
      "text/plain": [
       "               本行買入     本行賣出\n",
       "美金 (USD)     29.615   30.157\n",
       "港幣 (HKD)      3.682    3.872\n",
       "英鎊 (GBP)      38.98    40.91\n",
       "澳幣 (AUD)      22.66    23.32\n",
       "加拿大幣 (CAD)    22.99    23.73\n",
       "新加坡幣 (SGD)    21.78    22.56\n",
       "瑞士法郎 (CHF)     29.7    30.76\n",
       "日圓 (JPY)     0.2559   0.2669\n",
       "南非幣 (ZAR)         -        -\n",
       "瑞典幣 (SEK)      3.18     3.69\n",
       "紐元 (NZD)      20.66    21.29\n",
       "泰幣 (THB)     0.8117   0.9547\n",
       "菲國比索 (PHP)    0.523    0.656\n",
       "印尼幣 (IDR)   0.00188  0.00258\n",
       "歐元 (EUR)      34.86    36.01\n",
       "韓元 (KRW)    0.02601  0.02991\n",
       "越南盾 (VND)   0.00095  0.00145\n",
       "馬來幣 (MYR)     6.287    7.877\n",
       "人民幣 (CNY)     4.468     4.63"
      ]
     },
     "metadata": {},
     "output_type": "display_data"
    }
   ],
   "source": [
    "#台灣銀行現金匯率牌告利率表\n",
    "TWBK_cash_exchange_rate = pd.DataFrame({\"本行買入\": cash_buy, \"本行賣出\": cash_sell})\n",
    "TWBK_cash_exchange_rate.index = currency_nation\n",
    "display(TWBK_cash_exchange_rate)"
   ]
  },
  {
   "cell_type": "code",
   "execution_count": 84,
   "metadata": {},
   "outputs": [
    {
     "data": {
      "text/html": [
       "<div>\n",
       "<style>\n",
       "    .dataframe thead tr:only-child th {\n",
       "        text-align: right;\n",
       "    }\n",
       "\n",
       "    .dataframe thead th {\n",
       "        text-align: left;\n",
       "    }\n",
       "\n",
       "    .dataframe tbody tr th {\n",
       "        vertical-align: top;\n",
       "    }\n",
       "</style>\n",
       "<table border=\"1\" class=\"dataframe\">\n",
       "  <thead>\n",
       "    <tr style=\"text-align: right;\">\n",
       "      <th></th>\n",
       "      <th>本行買入</th>\n",
       "      <th>本行賣出</th>\n",
       "    </tr>\n",
       "  </thead>\n",
       "  <tbody>\n",
       "    <tr>\n",
       "      <th>美金 (USD)</th>\n",
       "      <td>29.915</td>\n",
       "      <td>30.015</td>\n",
       "    </tr>\n",
       "    <tr>\n",
       "      <th>港幣 (HKD)</th>\n",
       "      <td>3.797</td>\n",
       "      <td>3.857</td>\n",
       "    </tr>\n",
       "    <tr>\n",
       "      <th>英鎊 (GBP)</th>\n",
       "      <td>39.85</td>\n",
       "      <td>40.27</td>\n",
       "    </tr>\n",
       "    <tr>\n",
       "      <th>澳幣 (AUD)</th>\n",
       "      <td>22.85</td>\n",
       "      <td>23.08</td>\n",
       "    </tr>\n",
       "    <tr>\n",
       "      <th>加拿大幣 (CAD)</th>\n",
       "      <td>23.26</td>\n",
       "      <td>23.48</td>\n",
       "    </tr>\n",
       "    <tr>\n",
       "      <th>新加坡幣 (SGD)</th>\n",
       "      <td>22.2</td>\n",
       "      <td>22.38</td>\n",
       "    </tr>\n",
       "    <tr>\n",
       "      <th>瑞士法郎 (CHF)</th>\n",
       "      <td>30.23</td>\n",
       "      <td>30.52</td>\n",
       "    </tr>\n",
       "    <tr>\n",
       "      <th>日圓 (JPY)</th>\n",
       "      <td>0.2623</td>\n",
       "      <td>0.2663</td>\n",
       "    </tr>\n",
       "    <tr>\n",
       "      <th>南非幣 (ZAR)</th>\n",
       "      <td>2.31</td>\n",
       "      <td>2.39</td>\n",
       "    </tr>\n",
       "    <tr>\n",
       "      <th>瑞典幣 (SEK)</th>\n",
       "      <td>3.52</td>\n",
       "      <td>3.62</td>\n",
       "    </tr>\n",
       "    <tr>\n",
       "      <th>紐元 (NZD)</th>\n",
       "      <td>20.9</td>\n",
       "      <td>21.1</td>\n",
       "    </tr>\n",
       "    <tr>\n",
       "      <th>泰幣 (THB)</th>\n",
       "      <td>0.9002</td>\n",
       "      <td>0.9402</td>\n",
       "    </tr>\n",
       "    <tr>\n",
       "      <th>菲國比索 (PHP)</th>\n",
       "      <td>-</td>\n",
       "      <td>-</td>\n",
       "    </tr>\n",
       "    <tr>\n",
       "      <th>印尼幣 (IDR)</th>\n",
       "      <td>-</td>\n",
       "      <td>-</td>\n",
       "    </tr>\n",
       "    <tr>\n",
       "      <th>歐元 (EUR)</th>\n",
       "      <td>35.36</td>\n",
       "      <td>35.76</td>\n",
       "    </tr>\n",
       "    <tr>\n",
       "      <th>韓元 (KRW)</th>\n",
       "      <td>-</td>\n",
       "      <td>-</td>\n",
       "    </tr>\n",
       "    <tr>\n",
       "      <th>越南盾 (VND)</th>\n",
       "      <td>-</td>\n",
       "      <td>-</td>\n",
       "    </tr>\n",
       "    <tr>\n",
       "      <th>馬來幣 (MYR)</th>\n",
       "      <td>-</td>\n",
       "      <td>-</td>\n",
       "    </tr>\n",
       "    <tr>\n",
       "      <th>人民幣 (CNY)</th>\n",
       "      <td>4.54</td>\n",
       "      <td>4.59</td>\n",
       "    </tr>\n",
       "  </tbody>\n",
       "</table>\n",
       "</div>"
      ],
      "text/plain": [
       "              本行買入    本行賣出\n",
       "美金 (USD)    29.915  30.015\n",
       "港幣 (HKD)     3.797   3.857\n",
       "英鎊 (GBP)     39.85   40.27\n",
       "澳幣 (AUD)     22.85   23.08\n",
       "加拿大幣 (CAD)   23.26   23.48\n",
       "新加坡幣 (SGD)    22.2   22.38\n",
       "瑞士法郎 (CHF)   30.23   30.52\n",
       "日圓 (JPY)    0.2623  0.2663\n",
       "南非幣 (ZAR)     2.31    2.39\n",
       "瑞典幣 (SEK)     3.52    3.62\n",
       "紐元 (NZD)      20.9    21.1\n",
       "泰幣 (THB)    0.9002  0.9402\n",
       "菲國比索 (PHP)       -       -\n",
       "印尼幣 (IDR)        -       -\n",
       "歐元 (EUR)     35.36   35.76\n",
       "韓元 (KRW)         -       -\n",
       "越南盾 (VND)        -       -\n",
       "馬來幣 (MYR)        -       -\n",
       "人民幣 (CNY)     4.54    4.59"
      ]
     },
     "metadata": {},
     "output_type": "display_data"
    }
   ],
   "source": [
    "re = requests.get(\"http://rate.bot.com.tw/xrt?Lang=zh-TW\")\n",
    "soup = BeautifulSoup(re.text, \"html.parser\")\n",
    "body = soup.find(\"tbody\")\n",
    "tr = body.find_all(\"tr\")\n",
    "\n",
    "#台灣銀行牌告現金匯率\n",
    "#cash_buy 本行買入\n",
    "#cash_sell 本行賣出\n",
    "forward_buy=[]\n",
    "forward_sell=[]\n",
    "for i in tr:\n",
    "    td = i.find_all(\"td\")\n",
    "    forward_buy.append(td[3].get_text(strip=True))\n",
    "    forward_sell.append(td[4].get_text(strip=True))\n",
    "\n",
    "#台灣銀行遠期匯率牌告利率表\n",
    "TWBK_forward_exchange_rate = pd.DataFrame({\"本行買入\": cash_buy, \"本行賣出\": cash_sell})\n",
    "TWBK_forward_exchange_rate.index = currency_nation\n",
    "display(TWBK_forward_exchange_rate)"
   ]
  },
  {
   "cell_type": "code",
   "execution_count": null,
   "metadata": {
    "collapsed": true
   },
   "outputs": [],
   "source": []
  }
 ],
 "metadata": {
  "kernelspec": {
   "display_name": "Python 3",
   "language": "python",
   "name": "python3"
  },
  "language_info": {
   "codemirror_mode": {
    "name": "ipython",
    "version": 3
   },
   "file_extension": ".py",
   "mimetype": "text/x-python",
   "name": "python",
   "nbconvert_exporter": "python",
   "pygments_lexer": "ipython3",
   "version": "3.6.3"
  }
 },
 "nbformat": 4,
 "nbformat_minor": 2
}
